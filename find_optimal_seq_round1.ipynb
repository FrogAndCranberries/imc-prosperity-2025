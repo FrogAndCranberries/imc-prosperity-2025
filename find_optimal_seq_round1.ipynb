{
 "cells": [
  {
   "cell_type": "code",
   "execution_count": null,
   "metadata": {},
   "outputs": [],
   "source": [
    "#so, as mentioned in the problem  setup, there is just the matter of finding the optimal sequence for\n",
    "# S->X->Y->Z->W->S with weights given as a transition matrix,\n",
    "# there's obviously 4^4= 256 such sequences and I will just search for maximum \n",
    "# "
   ]
  },
  {
   "cell_type": "code",
   "execution_count": 8,
   "metadata": {},
   "outputs": [
    {
     "name": "stdout",
     "output_type": "stream",
     "text": [
      "Best sequence\n",
      "SeaShell then Snowball then Sillicon Nuggets then Pizza then Snowball then SeaShell\n",
      "Score is  1.08868\n"
     ]
    }
   ],
   "source": [
    "import itertools\n",
    "#start and end at S state index - \n",
    "#weight w\n",
    "states = [\"Snowball\", \"Pizza\", \"Sillicon Nuggets\", \"SeaShell\"]\n",
    "w= [[1.00 , 1.45, 0.52, 0.72], [0.70, 1.00, 0.31, 0.48] , [1.95, 3.10, 1.00, 1.49], [1.34,1.98, 0.64,1.00]]\n",
    "start= 3\n",
    "best_score = -1\n",
    "best_seq = None\n",
    "\n",
    "for seq in itertools.product(range(4), repeat=4):\n",
    "    x,y,z,v = seq\n",
    "    try:\n",
    "        score = (w[start][x] * w[x][y] * w[y][z]* w[z][v] * w[v][start])\n",
    "        if score > best_score:\n",
    "            best_score = score\n",
    "            best_seq= seq\n",
    "    except IndexError:\n",
    "        continue\n",
    "\n",
    "print('Best sequence')\n",
    "print(\" then \".join([states[start]] + [states[i] for i in best_seq] + [states[start]]))\n",
    "print(\"Score is \", round(best_score, 5))\n"
   ]
  },
  {
   "cell_type": "code",
   "execution_count": 10,
   "metadata": {},
   "outputs": [
    {
     "name": "stdout",
     "output_type": "stream",
     "text": [
      "Best single trade sequence\n",
      "SeaShell then Snowball then SeaShell\n",
      "Score is  0.9648\n"
     ]
    }
   ],
   "source": [
    "#Now for sequnce of a single trade :\n",
    "states = [\"Snowball\", \"Pizza\", \"Sillicon Nuggets\", \"SeaShell\"]\n",
    "w= [[1.00 , 1.45, 0.52, 0.72], [0.70, 1.00, 0.31, 0.48] , [1.95, 3.10, 1.00, 1.49], [1.34,1.98, 0.64,1.00]]\n",
    "start= 3\n",
    "best_score = -1\n",
    "best_seq = None\n",
    "\n",
    "for i in range(4):\n",
    "    if i != start:  # Avoid trading with the same state\n",
    "        try:\n",
    "            score = w[start][i] * w[i][start]\n",
    "            if score > best_score:\n",
    "                best_score = score\n",
    "                best_trade = i\n",
    "        except IndexError:\n",
    "            continue\n",
    "\n",
    "print('Best single trade sequence')\n",
    "print(f\"{states[start]} then {states[best_trade]} then {states[start]}\")\n",
    "print(\"Score is \", round(best_score, 5))"
   ]
  },
  {
   "cell_type": "code",
   "execution_count": 13,
   "metadata": {},
   "outputs": [
    {
     "name": "stdout",
     "output_type": "stream",
     "text": [
      "\n",
      "Best sequence with 2 intermediate states\n",
      "SeaShell then Snowball then Sillicon Nuggets then SeaShell\n",
      "Score is 1.03823\n"
     ]
    }
   ],
   "source": [
    "import itertools\n",
    "\n",
    "states = [\"Snowball\", \"Pizza\", \"Sillicon Nuggets\", \"SeaShell\"]\n",
    "w = [[1.00, 1.45, 0.52, 0.72], [0.70, 1.00, 0.31, 0.48], [1.95, 3.10, 1.00, 1.49], [1.34, 1.98, 0.64, 1.00]]\n",
    "start = 3\n",
    "best_score_2 = -1\n",
    "best_seq_2 = None\n",
    "\n",
    "for seq in itertools.product(range(4), repeat=2):\n",
    "    a, b = seq\n",
    "    try:\n",
    "        score = w[start][a] * w[a][b] * w[b][start]\n",
    "        if score > best_score_2:\n",
    "            best_score_2 = score\n",
    "            best_seq_2 = seq\n",
    "    except IndexError:\n",
    "        continue\n",
    "\n",
    "print('\\nBest sequence with 2 intermediate states')\n",
    "print(\" then \".join([states[start]] + [states[i] for i in best_seq_2] + [states[start]]))\n",
    "print(\"Score is\", round(best_score_2, 5))"
   ]
  },
  {
   "cell_type": "code",
   "execution_count": 12,
   "metadata": {},
   "outputs": [
    {
     "name": "stdout",
     "output_type": "stream",
     "text": [
      "\n",
      "Best sequence with 3 intermediate states\n",
      "SeaShell then Pizza then Snowball then Sillicon Nuggets then SeaShell\n",
      "Score is 1.07387\n"
     ]
    }
   ],
   "source": [
    "import itertools\n",
    "\n",
    "states = [\"Snowball\", \"Pizza\", \"Sillicon Nuggets\", \"SeaShell\"]\n",
    "w = [[1.00, 1.45, 0.52, 0.72], [0.70, 1.00, 0.31, 0.48], [1.95, 3.10, 1.00, 1.49], [1.34, 1.98, 0.64, 1.00]]\n",
    "start = 3\n",
    "best_score_3 = -1\n",
    "best_seq_3 = None\n",
    "\n",
    "for seq in itertools.product(range(4), repeat=3):\n",
    "    a, b, c = seq\n",
    "    try:\n",
    "        score = w[start][a] * w[a][b] * w[b][c] * w[c][start]\n",
    "        if score > best_score_3:\n",
    "            best_score_3 = score\n",
    "            best_seq_3 = seq\n",
    "    except IndexError:\n",
    "        continue\n",
    "\n",
    "print('\\nBest sequence with 3 intermediate states')\n",
    "print(\" then \".join([states[start]] + [states[i] for i in best_seq_3] + [states[start]]))\n",
    "print(\"Score is\", round(best_score_3, 5))"
   ]
  }
 ],
 "metadata": {
  "kernelspec": {
   "display_name": "Python 3",
   "language": "python",
   "name": "python3"
  },
  "language_info": {
   "codemirror_mode": {
    "name": "ipython",
    "version": 3
   },
   "file_extension": ".py",
   "mimetype": "text/x-python",
   "name": "python",
   "nbconvert_exporter": "python",
   "pygments_lexer": "ipython3",
   "version": "3.11.8"
  }
 },
 "nbformat": 4,
 "nbformat_minor": 2
}
